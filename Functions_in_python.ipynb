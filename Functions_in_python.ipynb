{
  "nbformat": 4,
  "nbformat_minor": 0,
  "metadata": {
    "colab": {
      "name": "Functions in python",
      "provenance": [],
      "authorship_tag": "ABX9TyODt1tgeLenmXmq4PKYI17W",
      "include_colab_link": true
    },
    "kernelspec": {
      "name": "python3",
      "display_name": "Python 3"
    },
    "language_info": {
      "name": "python"
    }
  },
  "cells": [
    {
      "cell_type": "markdown",
      "metadata": {
        "id": "view-in-github",
        "colab_type": "text"
      },
      "source": [
        "<a href=\"https://colab.research.google.com/github/Kendi-Nceene/Functions-in-python/blob/main/Functions_in_python.ipynb\" target=\"_parent\"><img src=\"https://colab.research.google.com/assets/colab-badge.svg\" alt=\"Open In Colab\"/></a>"
      ]
    },
    {
      "cell_type": "markdown",
      "source": [
        "**Creating a Function**"
      ],
      "metadata": {
        "id": "prqXtTvpcYC_"
      }
    },
    {
      "cell_type": "code",
      "execution_count": 1,
      "metadata": {
        "colab": {
          "base_uri": "https://localhost:8080/"
        },
        "id": "uW1etgwabU6w",
        "outputId": "3a2967d4-57e4-49a0-cfa4-d1e0b0fc0425"
      },
      "outputs": [
        {
          "output_type": "stream",
          "name": "stdout",
          "text": [
            "hello world\n"
          ]
        }
      ],
      "source": [
        "#function definition  \n",
        "def hello_world():    \n",
        "    print(\"hello world\")    \n",
        "# function calling  \n",
        "hello_world()      "
      ]
    },
    {
      "cell_type": "markdown",
      "source": [
        "**The return statement**"
      ],
      "metadata": {
        "id": "AJC5hhF5ccuR"
      }
    },
    {
      "cell_type": "code",
      "source": [
        "# Defining function  \n",
        "def sum():  \n",
        "    a = 10  \n",
        "    b = 20  \n",
        "    c = a+b  \n",
        "    return c  \n",
        "# calling sum() function in print statement  \n",
        "print(\"The sum is:\",sum())  "
      ],
      "metadata": {
        "colab": {
          "base_uri": "https://localhost:8080/"
        },
        "id": "JiX6Wl4ScrVG",
        "outputId": "deeddc2e-35d1-4532-cfc6-105e1dcdfd17"
      },
      "execution_count": 1,
      "outputs": [
        {
          "output_type": "stream",
          "name": "stdout",
          "text": [
            "The sum is: 30\n"
          ]
        }
      ]
    },
    {
      "cell_type": "markdown",
      "source": [
        "**Creating function without return statement**\n",
        "\n"
      ],
      "metadata": {
        "id": "-YFhRCoVdsWi"
      }
    },
    {
      "cell_type": "code",
      "source": [
        "# Defining function  \n",
        "def sum():  \n",
        "    a = 10  \n",
        "    b = 20  \n",
        "    c = a+b  \n",
        "# calling sum() function in print statement  \n",
        "print(sum())  "
      ],
      "metadata": {
        "colab": {
          "base_uri": "https://localhost:8080/"
        },
        "id": "nsMGE6Sxd1JE",
        "outputId": "71b7329a-8007-4603-fc31-1e4c15977ac6"
      },
      "execution_count": 2,
      "outputs": [
        {
          "output_type": "stream",
          "name": "stdout",
          "text": [
            "None\n"
          ]
        }
      ]
    },
    {
      "cell_type": "markdown",
      "source": [
        "In the above code, we have defined the same function without the return statement as we can see that the sum() function returned the None object to the caller function."
      ],
      "metadata": {
        "id": "OOB4i_yld4-h"
      }
    },
    {
      "cell_type": "markdown",
      "source": [
        "**Arguments in function**"
      ],
      "metadata": {
        "id": "X8DnDKgAfdAp"
      }
    },
    {
      "cell_type": "code",
      "source": [
        "#defining the function    \n",
        "def func (name):    \n",
        "    print(\"Hi \",name)   \n",
        "#calling the function     \n",
        "func(\"Devansh\")     "
      ],
      "metadata": {
        "colab": {
          "base_uri": "https://localhost:8080/"
        },
        "id": "-_AcbgUhfj9F",
        "outputId": "c0dcc65a-c768-4c8f-8df9-51a60fcf9cdc"
      },
      "execution_count": 3,
      "outputs": [
        {
          "output_type": "stream",
          "name": "stdout",
          "text": [
            "Hi  Devansh\n"
          ]
        }
      ]
    },
    {
      "cell_type": "code",
      "source": [
        "#Python function to calculate the sum of two variables     \n",
        "#defining the function    \n",
        "def sum (a,b):    \n",
        "    return a+b;    \n",
        "    \n",
        "#taking values from the user    \n",
        "a = int(input(\"Enter a: \"))    \n",
        "b = int(input(\"Enter b: \"))    \n",
        "    \n",
        "#printing the sum of a and b    \n",
        "print(\"Sum = \",sum(a,b))   "
      ],
      "metadata": {
        "colab": {
          "base_uri": "https://localhost:8080/"
        },
        "id": "OCaTJLTJgIhA",
        "outputId": "7b42d570-1cd5-4ef8-fa1b-dbf9743a3a9b"
      },
      "execution_count": 5,
      "outputs": [
        {
          "output_type": "stream",
          "name": "stdout",
          "text": [
            "Enter a: 10\n",
            "Enter b: 20\n",
            "Sum =  30\n"
          ]
        }
      ]
    }
  ]
}